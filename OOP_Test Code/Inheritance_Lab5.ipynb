{
 "cells": [
  {
   "cell_type": "code",
   "execution_count": null,
   "metadata": {
    "graffitiCellId": "id_xnfiapd",
    "graffitiConfig": {
     "executeCellViaGraffiti": "cszcwji_iabk114"
    }
   },
   "outputs": [],
   "source": [
    "// Example solution for Rectangle and Square friend classes\n",
    "#include <assert.h>\n",
    "\n",
    "// Declare class Rectangle\n",
    "class Rectangle{\n",
    "    public:\n",
    "    int Area(){\n",
    "        return width_*height_;\n",
    "    }\n",
    "    private:\n",
    "    int width_;\n",
    "    int height_;\n",
    "};\n",
    "\n",
    "// Define class Square as friend of Rectangle\n",
    "class Square{\n",
    "    public:\n",
    "    Square(int s): side_(s){}\n",
    "    \n",
    "    private:\n",
    "    friend class Rectangle;\n",
    "    int side_;\n",
    "};\n",
    "// Add public constructor to Square, initialize side\n",
    "    // Add friend class Rectangle\n",
    "\n",
    "    // Add private attribute side\n",
    "\n",
    "// Define class Rectangle\n",
    "    // Add public function to Rectangle: Area()\n",
    "    \n",
    "    // Add private attributes width, height;\n",
    "\n",
    "// Define a Rectangle constructor that takes a Square\n",
    "class Rectangle::Rectangle(Square& s):width_(s.size), height_(s.size){}\n",
    "// Define Area() to compute area of Rectangle\n",
    "\n",
    "// Update main() to pass the tests\n",
    "int main()\n",
    "{\n",
    "    Square square(4);\n",
    "    Rectangle rectangle(square);\n",
    "    assert(rectangle.Area() == 16); \n",
    "}"
   ]
  },
  {
   "cell_type": "markdown",
   "metadata": {
    "graffitiCellId": "id_cszcwji"
   },
   "source": [
    "<span class=\"graffiti-highlight graffiti-id_cszcwji-id_iabk114\"><i></i><button>Compile & Execute</button></span>&nbsp;<span class=\"graffiti-highlight graffiti-id_2nysdvu-id_mkkxqg6\"><i></i><button>Explain</button></span>"
   ]
  },
  {
   "cell_type": "markdown",
   "metadata": {
    "graffitiCellId": "id_iyjd706",
    "graffitiConfig": {
     "rows": 12,
     "terminalId": "id_4d19a0c",
     "type": "terminal"
    }
   },
   "source": [
    "<i>Loading terminal (id_iyjd706), please wait...</i>"
   ]
  },
  {
   "cell_type": "markdown",
   "metadata": {
    "graffitiCellId": "id_hm7xhkg"
   },
   "source": [
    "<span class=\"graffiti-highlight graffiti-id_amiw9l6-id_lrhzpf7\"><i></i><button>Hide Solution</button></span>"
   ]
  },
  {
   "cell_type": "code",
   "execution_count": null,
   "metadata": {
    "graffitiCellId": "id_lrhzpf7"
   },
   "outputs": [],
   "source": [
    "// Example solution for Rectangle and Square friend classes\n",
    "#include <assert.h>\n",
    "\n",
    "// Declare class Rectangle\n",
    "class Rectangle;\n",
    "\n",
    "// Define class Square as friend of Rectangle\n",
    "class Square {\n",
    "// Add public constructor to Square, initialize side\n",
    "public:\n",
    "    Square(int s) : side(s) {}\n",
    "\n",
    "private:\n",
    "    // Add friend class Rectangle\n",
    "    friend class Rectangle;\n",
    "    // Add private attribute side to Square\n",
    "    int side;\n",
    "};\n",
    "\n",
    "// Define class Rectangle\n",
    "class Rectangle {\n",
    "// Add public functions to Rectangle: area() and convert()\n",
    "public:\n",
    "    Rectangle(const Square& a);\n",
    "    int Area() const;\n",
    "\n",
    "private:\n",
    "    // Add private attributes width, height\n",
    "    int width {0};\n",
    "    int height {0};\n",
    "};\n",
    "\n",
    " // Define a Rectangle constructor that takes a Square\n",
    "Rectangle::Rectangle(const Square& a) : width(a.side), height(a.side)\n",
    "{\n",
    "}\n",
    "\n",
    "// Define Area() to compute area of Rectangle\n",
    "int Rectangle::Area() const\n",
    "{\n",
    "    return width * height;\n",
    "}\n",
    "// Update main() to pass the tests\n",
    "int main()\n",
    "{\n",
    "    Square square(4);\n",
    "    Rectangle rectangle(square);\n",
    "    assert(rectangle.Area() == 16); \n",
    "}"
   ]
  }
 ],
 "metadata": {
  "graffiti": {
   "firstAuthorId": "8978490740",
   "id": "id_g4m4i1f",
   "language": "EN"
  },
  "kernelspec": {
   "display_name": "C++17",
   "language": "C++17",
   "name": "xeus-cling-cpp17"
  },
  "language_info": {
   "codemirror_mode": "text/x-c++src",
   "file_extension": ".cpp",
   "mimetype": "text/x-c++src",
   "name": "c++",
   "version": "-std=c++17"
  }
 },
 "nbformat": 4,
 "nbformat_minor": 2
}
