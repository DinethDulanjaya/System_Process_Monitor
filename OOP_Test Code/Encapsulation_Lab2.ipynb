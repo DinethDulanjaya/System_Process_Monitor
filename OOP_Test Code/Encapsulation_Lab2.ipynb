{
 "cells": [
  {
   "cell_type": "code",
   "execution_count": null,
   "metadata": {
    "graffitiCellId": "id_n5iexd2",
    "graffitiConfig": {
     "executeCellViaGraffiti": "0zvsutm_r0ukkqx"
    }
   },
   "outputs": [],
   "source": [
    "#include <iostream>\n",
    "#include <string>\n",
    "\n",
    "class BankAccount\n",
    "{\n",
    "  private:\n",
    "    int acnumber{0};\n",
    "    std::string name{\"Alias\"};\n",
    "    int funds{0};\n",
    "      // TODO: declare member variables\n",
    "\n",
    "  public:\n",
    "      // TODO: declare setters\n",
    "    void setACNumber(int ac);\n",
    "    void setName(std::string s);\n",
    "    void setFund(int fund);\n",
    "      // TODO: declare getters\n",
    "    int getACNumber () const;\n",
    "    std::string getName () const;\n",
    "    int getFund () const;\n",
    "};\n",
    "\n",
    "// TODO: implement setters\n",
    "void BankAccount::setACNumber(int ac){BankAccount::acnumber = ac;}\n",
    "void BankAccount::setName(std::string s){BankAccount::name = s;}\n",
    "void BankAccount::setFund(int fund){BankAccount::funds = fund;}\n",
    "// TODO: implement getters\n",
    "int BankAccount::getACNumber () const{return BankAccount::acnumber;}\n",
    "std::string BankAccount::getName ()const{return BankAccount::name;}\n",
    "int BankAccount::getFund ()const{return BankAccount::funds;}\n",
    "\n",
    "int main(){\n",
    "    // TODO: instantiate and output a bank account\n",
    "    BankAccount BAC;\n",
    "    BAC.setACNumber(1);\n",
    "    std::cout << BAC.getACNumber() << \"\\n\";\n",
    "}"
   ]
  },
  {
   "cell_type": "markdown",
   "metadata": {
    "graffitiCellId": "id_0zvsutm"
   },
   "source": [
    "<span class=\"graffiti-highlight graffiti-id_0zvsutm-id_r0ukkqx\"><i></i><button>Compile & Run</button></span>&nbsp;\n",
    "<span class=\"graffiti-highlight graffiti-id_rtv3pzy-id_tizw7jz\"><i></i><button>Explain</button></span>"
   ]
  },
  {
   "cell_type": "markdown",
   "metadata": {
    "graffitiCellId": "id_4ra3ew2",
    "graffitiConfig": {
     "rows": 12,
     "terminalId": "id_ahx82l1",
     "type": "terminal"
    }
   },
   "source": [
    "<i>Loading terminal (id_4ra3ew2), please wait...</i>"
   ]
  },
  {
   "cell_type": "code",
   "execution_count": null,
   "metadata": {
    "graffitiCellId": "id_j3k4h29"
   },
   "outputs": [],
   "source": [
    "// Example solution for creating a BankAccount class\n",
    "#include <iostream>\n",
    "#include <string>\n",
    "\n",
    "class BankAccount\n",
    "{\n",
    "  private:\n",
    "      // Class attributes:\n",
    "      \n",
    "      long int number;\n",
    "      std::string owner;\n",
    "      float amount;\n",
    "\n",
    "  public:\n",
    "      // Set  methods:\n",
    "      void setNumber(long int number);\n",
    "      void setOwner(std::string owner);\n",
    "      void setAmount(float amount);\n",
    "      // Get methods:\n",
    "      long int getNumber() const;\n",
    "      std::string getOwner() const;\n",
    "      float getAmount() const;\n",
    "};\n",
    "\n",
    "// Implementation of Set methods:\n",
    "void BankAccount::setNumber(long int number) {\n",
    "    // Changing attribute to incoming value\n",
    "    BankAccount::number = number;\n",
    "}\n",
    "\n",
    "void BankAccount::setOwner(std::string owner) {\n",
    "    BankAccount::owner = owner;\n",
    "}\n",
    "\n",
    "void BankAccount::setAmount(float amount) {\n",
    "    BankAccount::amount = amount;\n",
    "}\n",
    "\n",
    "// Implementation of Get methods:\n",
    "long int BankAccount::getNumber() const {\n",
    "    // Getting specified attribute\n",
    "    return BankAccount::number;\n",
    "}\n",
    "\n",
    "std::string BankAccount::getOwner() const {\n",
    "    return BankAccount::owner;\n",
    "}\n",
    "\n",
    "float BankAccount::getAmount() const {\n",
    "    return BankAccount::amount;\n",
    "}\n",
    "\n",
    "// main function\n",
    "int main(){\n",
    "  BankAccount ba;\n",
    "  ba.setAmount(100);\n",
    "\n",
    "  std::cout << ba.getAmount() << std::endl;\n",
    "}"
   ]
  },
  {
   "cell_type": "markdown",
   "metadata": {
    "graffitiCellId": "id_10pzbi8"
   },
   "source": [
    "<span class=\"graffiti-highlight graffiti-id_10pzbi8-id_j3k4h29\"><i></i><button>Show Solution</button></span>"
   ]
  }
 ],
 "metadata": {
  "graffiti": {
   "firstAuthorId": "8978490740",
   "id": "id_g4m4i1f",
   "language": "EN"
  },
  "kernelspec": {
   "display_name": "C++17",
   "language": "C++17",
   "name": "xeus-cling-cpp17"
  },
  "language_info": {
   "codemirror_mode": "text/x-c++src",
   "file_extension": ".cpp",
   "mimetype": "text/x-c++src",
   "name": "c++",
   "version": "-std=c++17"
  }
 },
 "nbformat": 4,
 "nbformat_minor": 2
}
