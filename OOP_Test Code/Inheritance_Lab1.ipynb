{
 "cells": [
  {
   "cell_type": "code",
   "execution_count": null,
   "metadata": {
    "graffitiCellId": "id_f0fygab",
    "graffitiConfig": {
     "executeCellViaGraffiti": "s97p0lz_yynkkrc"
    }
   },
   "outputs": [],
   "source": [
    "#include <string>\n",
    "#include <fstream>\n",
    "#include <iostream>\n",
    "// Define base class Animal\n",
    "class Animal{\n",
    "    \n",
    "    public:\n",
    "    std::string color;\n",
    "    std::string name;\n",
    "    int age;\n",
    "};\n",
    "// Declare derived class Snake\n",
    "class Snake: public Animal{\n",
    "    public:\n",
    "    int length;\n",
    "    void MakeSound(){\n",
    "        std::cout<<\"hsss\\n\";\n",
    "    }\n",
    "};\n",
    "// Declare derived class Cat\n",
    "class Cat: public Animal{\n",
    "    public:\n",
    "    int height;\n",
    "    void MakeSound(){\n",
    "        std::cout<<\"Mew\\n\";\n",
    "    }\n",
    "};\n",
    "// Test in main()\n",
    "int main(){\n",
    "    Cat cat;\n",
    "    cat.MakeSound();\n",
    "    Snake snake;\n",
    "    snake.MakeSound();\n",
    "}"
   ]
  },
  {
   "cell_type": "markdown",
   "metadata": {
    "graffitiCellId": "id_s97p0lz"
   },
   "source": [
    "<span class=\"graffiti-highlight graffiti-id_s97p0lz-id_yynkkrc\"><i></i><button>Compile & Execute</button></span>&nbsp;\n",
    "<span class=\"graffiti-highlight graffiti-id_kwxfz3o-id_bp7z52o\"><i></i><button>Explain</button></span>"
   ]
  },
  {
   "cell_type": "markdown",
   "metadata": {
    "graffitiCellId": "id_khtvygp",
    "graffitiConfig": {
     "rows": 12,
     "terminalId": "id_z57t529",
     "type": "terminal"
    }
   },
   "source": [
    "<i>Loading terminal (id_khtvygp), please wait...</i>"
   ]
  },
  {
   "cell_type": "markdown",
   "metadata": {
    "graffitiCellId": "id_19n2zug"
   },
   "source": [
    "<span class=\"graffiti-highlight graffiti-id_eaxs16z-id_6tukvgw\"><i></i><button>Show Solution</button></span>"
   ]
  }
 ],
 "metadata": {
  "graffiti": {
   "firstAuthorId": "8978490740",
   "id": "id_xnc2lo4",
   "language": "EN"
  },
  "kernelspec": {
   "display_name": "C++17",
   "language": "C++17",
   "name": "xeus-cling-cpp17"
  },
  "language_info": {
   "codemirror_mode": "text/x-c++src",
   "file_extension": ".cpp",
   "mimetype": "text/x-c++src",
   "name": "c++",
   "version": "-std=c++17"
  }
 },
 "nbformat": 4,
 "nbformat_minor": 2
}
