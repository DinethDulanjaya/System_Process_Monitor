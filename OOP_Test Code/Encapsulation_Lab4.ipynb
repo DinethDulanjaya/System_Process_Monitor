{
 "cells": [
  {
   "cell_type": "code",
   "execution_count": null,
   "metadata": {
    "graffitiCellId": "id_2eq82yp",
    "graffitiConfig": {
     "executeCellViaGraffiti": "66rm1m6_251f3fq"
    }
   },
   "outputs": [],
   "source": [
    "#include <cassert>\n",
    "#include <stdexcept>\n",
    "\n",
    "// TODO: Define class Pyramid\n",
    "class Pyramid{\n",
    "// public class members\n",
    "    public:\n",
    "    Pyramid(int l, int w, int h):length_(l), width_(w), height_(h){}\n",
    "    \n",
    "    int getLength() const;\n",
    "    int getWidth() const;\n",
    "    int getHeight() const;\n",
    "    \n",
    "    void setLength(int l);\n",
    "    void setWidth(int w);\n",
    "    void setHeight(int h);\n",
    "    \n",
    "    int Volume();\n",
    "    \n",
    "    private:\n",
    "    int length_{1};\n",
    "    int width_{1};\n",
    "    int height_{1};\n",
    "    int volume_;\n",
    "// constructor\n",
    "\n",
    "// accessors\n",
    "\n",
    "// mutators\n",
    "};\n",
    "// public Volume() function\n",
    "int Pyramid::getLength() const{return length_;}\n",
    "int Pyramid::getWidth() const{return width_;}\n",
    "int Pyramid::getHeight() const{return height_;}\n",
    "\n",
    "void Pyramid::setLength(int l){\n",
    "    if (l > 0){Pyramid::length_ = l;}\n",
    "}\n",
    "void Pyramid::setWidth(int w){\n",
    "    if (w > 0){Pyramid::width_ = w;}\n",
    "}\n",
    "void Pyramid::setHeight(int h){\n",
    "    if (h > 0){Pyramid::height_ = h;}\n",
    "}\n",
    "\n",
    "int  Pyramid::Volume(){\n",
    "    return Pyramid::length_ * Pyramid::width_ * (Pyramid::height_/3);\n",
    "}\n",
    "// private class members\n",
    "\n",
    "// Test\n",
    "int main() {\n",
    "  Pyramid pyramid(4, 5, 6);\n",
    "  assert(pyramid.getLength() == 4);\n",
    "  assert(pyramid.getWidth() == 5);\n",
    "  assert(pyramid.getHeight() == 6);\n",
    "  assert(pyramid.Volume() == 40);\n",
    "\n",
    "  bool caught{false};\n",
    "  try {\n",
    "    Pyramid invalid(-1, 2, 3);\n",
    "  } catch (...) {\n",
    "    caught = true;\n",
    "  }\n",
    "  assert(caught);\n",
    "}"
   ]
  },
  {
   "cell_type": "markdown",
   "metadata": {
    "graffitiCellId": "id_66rm1m6"
   },
   "source": [
    "<span class=\"graffiti-highlight graffiti-id_66rm1m6-id_251f3fq\"><i></i><button>Compile & Run</button></span>\n",
    "<span class=\"graffiti-highlight graffiti-id_a4lp7f3-id_1t82qn0\"><i></i><button>Explain</button></span>"
   ]
  },
  {
   "cell_type": "markdown",
   "metadata": {
    "graffitiCellId": "id_6962hjh",
    "graffitiConfig": {
     "rows": 6,
     "terminalId": "id_4upq8i2",
     "type": "terminal"
    }
   },
   "source": [
    "<i>Loading terminal (id_6962hjh), please wait...</i>"
   ]
  }
 ],
 "metadata": {
  "graffiti": {
   "firstAuthorId": "8978490740",
   "id": "id_g4m4i1f",
   "language": "EN"
  },
  "kernelspec": {
   "display_name": "C++17",
   "language": "C++17",
   "name": "xeus-cling-cpp17"
  },
  "language_info": {
   "codemirror_mode": "text/x-c++src",
   "file_extension": ".cpp",
   "mimetype": "text/x-c++src",
   "name": "c++",
   "version": "-std=c++17"
  }
 },
 "nbformat": 4,
 "nbformat_minor": 2
}
