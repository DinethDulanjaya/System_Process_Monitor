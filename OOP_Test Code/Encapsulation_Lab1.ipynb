{
 "cells": [
  {
   "cell_type": "markdown",
   "metadata": {
    "graffitiCellId": "id_lpragps"
   },
   "source": [
    "# Define a `Student` class\n",
    "Follow the instructions to create and test a `Student` class. If you get stuck you can scroll down to see an example solution. "
   ]
  },
  {
   "cell_type": "code",
   "execution_count": null,
   "metadata": {
    "graffitiCellId": "id_8patciz",
    "graffitiConfig": {
     "executeCellViaGraffiti": "a0fdo0n_ozfbizv"
    }
   },
   "outputs": [],
   "source": [
    "#include <cassert>\n",
    "#include <stdexcept>\n",
    "\n",
    "\n",
    "// TODO: Define \"Student\" class\n",
    "class Student {\n",
    " public:\n",
    "  // constructor\n",
    "    Student (std::string s, int g, int p):name_(s),grade_(g),gpa_(p){}\n",
    "  // accessors\n",
    "    std::string setName() const;\n",
    "    int setGrade() const;\n",
    "    int setGPA() const;\n",
    "  // mutators\n",
    "    void getName(std::string s);\n",
    "    void getGrade(int g);\n",
    "    void getGPA(int p);\n",
    "\n",
    " private:\n",
    "  // name\n",
    "    std::string name_;\n",
    "  // grade\n",
    "    int grade_;\n",
    "  // GPA\n",
    "    int gpa_;\n",
    "};\n",
    "\n",
    "void Student::getName(std::string s){Student::name_ = s;}\n",
    "void Student::getGrade(int g){\n",
    "    if (g >= 1 && g <= 12){Student::grade_ = g;}\n",
    "}\n",
    "void Student::getGPA(int p){\n",
    "    if (p >= 0 && p <= 4.2){Student::gpa_ = p;}\n",
    "}\n",
    "\n",
    "std::string Student::setName() const {return name_;}\n",
    "int Student::setGrade() const {return grade_;}\n",
    "int Student::setGPA() const {return gpa_;}\n",
    "\n",
    "// TODO: Test\n",
    "int main() {\n",
    "    \n",
    "    Student stud(\"A\", 4, 2);\n",
    "    assert(stud.setName() == \"A\");\n",
    "    assert(stud.setGrade() == 4);\n",
    "    assert(stud.setGPA() == 2);\n",
    "}"
   ]
  },
  {
   "cell_type": "markdown",
   "metadata": {
    "graffitiCellId": "id_a0fdo0n"
   },
   "source": [
    "<span class=\"graffiti-highlight graffiti-id_a0fdo0n-id_ozfbizv\"><i></i><button>Compile & Run</button></span>&nbsp;\n",
    "<span class=\"graffiti-highlight graffiti-id_tnsij9p-id_6goijy0\"><i></i><button>Explain</button></span>"
   ]
  },
  {
   "cell_type": "markdown",
   "metadata": {
    "graffitiCellId": "id_un5ro9d",
    "graffitiConfig": {
     "rows": 16,
     "terminalId": "id_mc9htdb",
     "type": "terminal"
    }
   },
   "source": [
    "<i>Loading terminal (id_un5ro9d), please wait...</i>"
   ]
  }
 ],
 "metadata": {
  "graffiti": {
   "firstAuthorId": "8978490740",
   "id": "id_g4m4i1f",
   "language": "EN"
  },
  "kernelspec": {
   "display_name": "C++17",
   "language": "C++17",
   "name": "xeus-cling-cpp17"
  },
  "language_info": {
   "codemirror_mode": "text/x-c++src",
   "file_extension": ".cpp",
   "mimetype": "text/x-c++src",
   "name": "c++",
   "version": "-std=c++17"
  }
 },
 "nbformat": 4,
 "nbformat_minor": 2
}
