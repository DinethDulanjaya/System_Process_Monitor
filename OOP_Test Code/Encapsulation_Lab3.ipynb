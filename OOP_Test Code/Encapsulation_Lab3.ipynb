{
 "cells": [
  {
   "cell_type": "code",
   "execution_count": null,
   "metadata": {
    "graffitiCellId": "id_ht1mz9t",
    "graffitiConfig": {
     "executeCellViaGraffiti": "ic4r07t_gza2m3q"
    }
   },
   "outputs": [],
   "source": [
    "#include <string>\n",
    "#include <cstring>\n",
    "#include <iostream>\n",
    "\n",
    "class Car {\n",
    "    // TODO: Declare private attributes\n",
    "    private:\n",
    "    int horsepower;\n",
    "    int weight;\n",
    "    char brand[];\n",
    "        \n",
    "    // TODO: Declare getter and setter for brand\n",
    "    public:\n",
    "    void setHorsepower(int h);\n",
    "    void setWeight(int w);\n",
    "    void setBrand(std::string s);\n",
    "    \n",
    "    int getHorsepower() const;\n",
    "    int getWeight() const;\n",
    "    std::string getBrand() const;\n",
    "        \n",
    "};\n",
    "\n",
    "// Define setters\n",
    "void Car::setHorsepower(int h){Car::horsepower = h;}\n",
    "void Car::setWeight(int w){Car::weight = w;}\n",
    "void Car::setBrand(std::string s){\n",
    "int n = s.length();\n",
    "    char brand[n+1];\n",
    "    std::strcpy(Car::brand,s.c_str());\n",
    "}\n",
    "// Define getters\n",
    "int Car::getHorsepower() const{return Car::horsepower;}\n",
    "int Car::getWeight() const{return Car::weight;}\n",
    "std::string Car::getBrand() const{\n",
    "    std::string result = Car::brand;\n",
    "    return result;\n",
    "}\n",
    "// Test in main()\n",
    "int main() \n",
    "{\n",
    "    Car car;\n",
    "    car.setBrand(\"Peugeot\");\n",
    "    std::cout << car.getBrand() << \"\\n\";   \n",
    "}"
   ]
  },
  {
   "cell_type": "markdown",
   "metadata": {
    "graffitiCellId": "id_ic4r07t"
   },
   "source": [
    "<span class=\"graffiti-highlight graffiti-id_ic4r07t-id_gza2m3q\"><i></i><button>Compile & Run</button></span>&nbsp;\n",
    "<span class=\"graffiti-highlight graffiti-id_pg23z1b-id_g4ip4k3\"><i></i><button>Explain</button></span>"
   ]
  },
  {
   "cell_type": "markdown",
   "metadata": {
    "graffitiCellId": "id_frf2itg",
    "graffitiConfig": {
     "rows": 6,
     "terminalId": "id_3q31ram",
     "type": "terminal"
    }
   },
   "source": [
    "<i>Loading terminal (id_frf2itg), please wait...</i>"
   ]
  },
  {
   "cell_type": "markdown",
   "metadata": {
    "graffitiCellId": "id_j5a9b81"
   },
   "source": [
    "<span class=\"graffiti-highlight graffiti-id_j5a9b81-id_t9xm0z7\"><i></i><button>Hide Solution</button></span>"
   ]
  },
  {
   "cell_type": "code",
   "execution_count": null,
   "metadata": {
    "graffitiCellId": "id_t9xm0z7"
   },
   "outputs": [],
   "source": [
    "// Partial example solution for Car class \n",
    "// getters and setters for brand only\n",
    "#include <string>\n",
    "#include <cstring>\n",
    "#include <iostream>\n",
    "// Define Car class\n",
    "class Car {\n",
    "    // Define private attributes\n",
    "    private:\n",
    "        int horse_power;\n",
    "        int weight;\n",
    "        char *brand;\n",
    "    // Declare public getter and setter\n",
    "    public:\n",
    "        void SetBrand(std::string brand_name);\n",
    "        std::string GetBrand() const;\n",
    "};\n",
    "\n",
    "// Define setter\n",
    "void Car::SetBrand(std::string brand_name) {\n",
    "    // Initialization of char array\n",
    "    Car::brand = new char[brand_name.length() + 1];\n",
    "    // copying every character from string to char array;\n",
    "    strcpy(Car::brand, brand_name.c_str());\n",
    "}\n",
    "\n",
    "// Define getter\n",
    "std::string Car::GetBrand() const {\n",
    "    std::string result = \"Brand name: \";\n",
    "    // Specifying string for output of brand name\n",
    "    result += Car::brand;\n",
    "    return result;\n",
    "};\n",
    "\n",
    "// Test in main()\n",
    "int main() {\n",
    "    Car car;\n",
    "    car.SetBrand(\"peugeot\");\n",
    "    std::cout << car.GetBrand() << \"\\n\";\n",
    "}"
   ]
  }
 ],
 "metadata": {
  "graffiti": {
   "firstAuthorId": "8978490740",
   "id": "id_g4m4i1f",
   "language": "EN"
  },
  "kernelspec": {
   "display_name": "C++17",
   "language": "C++17",
   "name": "xeus-cling-cpp17"
  },
  "language_info": {
   "codemirror_mode": "text/x-c++src",
   "file_extension": ".cpp",
   "mimetype": "text/x-c++src",
   "name": "c++",
   "version": "-std=c++17"
  }
 },
 "nbformat": 4,
 "nbformat_minor": 2
}
