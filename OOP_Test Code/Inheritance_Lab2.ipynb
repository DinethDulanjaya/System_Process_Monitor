{
 "cells": [
  {
   "cell_type": "code",
   "execution_count": null,
   "metadata": {
    "graffitiCellId": "id_c267s1j",
    "graffitiConfig": {
     "executeCellViaGraffiti": "3a7ajxg_sctez6p"
    }
   },
   "outputs": [],
   "source": [
    "#include <iostream>\n",
    "#include <cmath>\n",
    "#include <assert.h>\n",
    "\n",
    "#define pi 3.14159\n",
    "\n",
    "// Define Line Class\n",
    "class Line{\n",
    "    // Define protected attribute length\n",
    "    public:\n",
    "    double length_;\n",
    "};\n",
    "// Define Circle subclass\n",
    "class Circle{\n",
    "    // Define public setRadius() and getArea()\n",
    "    public:\n",
    "    Circle (Line& radius): r(radius){}\n",
    "    double getArea(){\n",
    "        return pi*pow(r.Line::length_,2);\n",
    "    }\n",
    "    \n",
    "    private:\n",
    "    Line& r;\n",
    "};\n",
    "// Test in main()\n",
    "int main() \n",
    "{\n",
    "    Line radius {3};\n",
    "    Circle circle(radius);\n",
    "    assert(int(circle.getArea()) == 28);\n",
    "}"
   ]
  },
  {
   "cell_type": "markdown",
   "metadata": {
    "graffitiCellId": "id_3a7ajxg"
   },
   "source": [
    "<span class=\"graffiti-highlight graffiti-id_3a7ajxg-id_sctez6p\"><i></i><button>Run Code</button></span>&nbsp;\n",
    "<span class=\"graffiti-highlight graffiti-id_hvmaw93-id_4fonyng\"><i></i><button>Explain</button></span>"
   ]
  },
  {
   "cell_type": "markdown",
   "metadata": {
    "graffitiCellId": "id_39egm48",
    "graffitiConfig": {
     "rows": 6,
     "terminalId": "id_v4rdwle",
     "type": "terminal"
    }
   },
   "source": [
    "<i>Loading terminal (id_39egm48), please wait...</i>"
   ]
  },
  {
   "cell_type": "code",
   "execution_count": null,
   "metadata": {
    "graffitiCellId": "id_bboze1c"
   },
   "outputs": [],
   "source": [
    "// Example solution for Circle class\n",
    "#include <iostream>\n",
    "#include <cmath>\n",
    "#include <assert.h>\n",
    "// Define PI\n",
    "#define PI 3.14159;\n",
    "\n",
    "\n",
    "// Define LineSegment struct\n",
    "struct LineSegment {\n",
    "// Define protected attribute length\n",
    "public:\n",
    "    double length;\n",
    "};\n",
    "\n",
    "// Define Circle class\n",
    "class Circle {\n",
    "public:\n",
    "    Circle(LineSegment& radius);\n",
    "    double Area();\n",
    "\n",
    "private:\n",
    "    LineSegment& radius_;\n",
    "};\n",
    "\n",
    "// Declare Circle class\n",
    "Circle::Circle(LineSegment& radius) : radius_(radius) {}\n",
    "\n",
    "double Circle::Area() \n",
    "{\n",
    "    return pow(Circle::radius_.length, 2) * PI;\n",
    "}\n",
    "\n",
    "// Test in main()\n",
    "int main() \n",
    "{\n",
    "    LineSegment radius {3};\n",
    "    Circle circle(radius);\n",
    "    assert(int(circle.Area()) == 28);\n",
    "}"
   ]
  },
  {
   "cell_type": "markdown",
   "metadata": {
    "graffitiCellId": "id_e686r6h"
   },
   "source": [
    "<span class=\"graffiti-highlight graffiti-id_e686r6h-id_bboze1c\"><i></i><button>Show Solution</button></span>"
   ]
  }
 ],
 "metadata": {
  "graffiti": {
   "firstAuthorId": "8978490740",
   "id": "id_xnc2lo4",
   "language": "EN"
  },
  "kernelspec": {
   "display_name": "C++17",
   "language": "C++17",
   "name": "xeus-cling-cpp17"
  },
  "language_info": {
   "codemirror_mode": "text/x-c++src",
   "file_extension": ".cpp",
   "mimetype": "text/x-c++src",
   "name": "c++",
   "version": "-std=c++17"
  }
 },
 "nbformat": 4,
 "nbformat_minor": 2
}
